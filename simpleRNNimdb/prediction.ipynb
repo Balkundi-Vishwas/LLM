{
 "cells": [
  {
   "cell_type": "code",
   "execution_count": 1,
   "metadata": {},
   "outputs": [],
   "source": [
    "import numpy as np\n",
    "import tensorflow as tf\n",
    "from tensorflow.keras.datasets import imdb\n",
    "from tensorflow.keras.preprocessing import sequence\n",
    "from tensorflow.keras.models import load_model"
   ]
  },
  {
   "cell_type": "code",
   "execution_count": 2,
   "metadata": {},
   "outputs": [],
   "source": [
    "word_index = imdb.get_word_index()\n",
    "reverse_word_index = {value: key for key, value in word_index.items()}"
   ]
  },
  {
   "cell_type": "code",
   "execution_count": 3,
   "metadata": {},
   "outputs": [
    {
     "name": "stderr",
     "output_type": "stream",
     "text": [
      "WARNING:absl:Compiled the loaded model, but the compiled metrics have yet to be built. `model.compile_metrics` will be empty until you train or evaluate the model.\n"
     ]
    },
    {
     "data": {
      "text/html": [
       "<pre style=\"white-space:pre;overflow-x:auto;line-height:normal;font-family:Menlo,'DejaVu Sans Mono',consolas,'Courier New',monospace\"><span style=\"font-weight: bold\">Model: \"sequential\"</span>\n",
       "</pre>\n"
      ],
      "text/plain": [
       "\u001b[1mModel: \"sequential\"\u001b[0m\n"
      ]
     },
     "metadata": {},
     "output_type": "display_data"
    },
    {
     "data": {
      "text/html": [
       "<pre style=\"white-space:pre;overflow-x:auto;line-height:normal;font-family:Menlo,'DejaVu Sans Mono',consolas,'Courier New',monospace\">┏━━━━━━━━━━━━━━━━━━━━━━━━━━━━━━━━━┳━━━━━━━━━━━━━━━━━━━━━━━━┳━━━━━━━━━━━━━━━┓\n",
       "┃<span style=\"font-weight: bold\"> Layer (type)                    </span>┃<span style=\"font-weight: bold\"> Output Shape           </span>┃<span style=\"font-weight: bold\">       Param # </span>┃\n",
       "┡━━━━━━━━━━━━━━━━━━━━━━━━━━━━━━━━━╇━━━━━━━━━━━━━━━━━━━━━━━━╇━━━━━━━━━━━━━━━┩\n",
       "│ embedding (<span style=\"color: #0087ff; text-decoration-color: #0087ff\">Embedding</span>)           │ (<span style=\"color: #00af00; text-decoration-color: #00af00\">32</span>, <span style=\"color: #00af00; text-decoration-color: #00af00\">500</span>, <span style=\"color: #00af00; text-decoration-color: #00af00\">128</span>)         │     <span style=\"color: #00af00; text-decoration-color: #00af00\">1,280,000</span> │\n",
       "├─────────────────────────────────┼────────────────────────┼───────────────┤\n",
       "│ simple_rnn (<span style=\"color: #0087ff; text-decoration-color: #0087ff\">SimpleRNN</span>)          │ (<span style=\"color: #00af00; text-decoration-color: #00af00\">32</span>, <span style=\"color: #00af00; text-decoration-color: #00af00\">128</span>)              │        <span style=\"color: #00af00; text-decoration-color: #00af00\">32,896</span> │\n",
       "├─────────────────────────────────┼────────────────────────┼───────────────┤\n",
       "│ dense (<span style=\"color: #0087ff; text-decoration-color: #0087ff\">Dense</span>)                   │ (<span style=\"color: #00af00; text-decoration-color: #00af00\">32</span>, <span style=\"color: #00af00; text-decoration-color: #00af00\">1</span>)                │           <span style=\"color: #00af00; text-decoration-color: #00af00\">129</span> │\n",
       "└─────────────────────────────────┴────────────────────────┴───────────────┘\n",
       "</pre>\n"
      ],
      "text/plain": [
       "┏━━━━━━━━━━━━━━━━━━━━━━━━━━━━━━━━━┳━━━━━━━━━━━━━━━━━━━━━━━━┳━━━━━━━━━━━━━━━┓\n",
       "┃\u001b[1m \u001b[0m\u001b[1mLayer (type)                   \u001b[0m\u001b[1m \u001b[0m┃\u001b[1m \u001b[0m\u001b[1mOutput Shape          \u001b[0m\u001b[1m \u001b[0m┃\u001b[1m \u001b[0m\u001b[1m      Param #\u001b[0m\u001b[1m \u001b[0m┃\n",
       "┡━━━━━━━━━━━━━━━━━━━━━━━━━━━━━━━━━╇━━━━━━━━━━━━━━━━━━━━━━━━╇━━━━━━━━━━━━━━━┩\n",
       "│ embedding (\u001b[38;5;33mEmbedding\u001b[0m)           │ (\u001b[38;5;34m32\u001b[0m, \u001b[38;5;34m500\u001b[0m, \u001b[38;5;34m128\u001b[0m)         │     \u001b[38;5;34m1,280,000\u001b[0m │\n",
       "├─────────────────────────────────┼────────────────────────┼───────────────┤\n",
       "│ simple_rnn (\u001b[38;5;33mSimpleRNN\u001b[0m)          │ (\u001b[38;5;34m32\u001b[0m, \u001b[38;5;34m128\u001b[0m)              │        \u001b[38;5;34m32,896\u001b[0m │\n",
       "├─────────────────────────────────┼────────────────────────┼───────────────┤\n",
       "│ dense (\u001b[38;5;33mDense\u001b[0m)                   │ (\u001b[38;5;34m32\u001b[0m, \u001b[38;5;34m1\u001b[0m)                │           \u001b[38;5;34m129\u001b[0m │\n",
       "└─────────────────────────────────┴────────────────────────┴───────────────┘\n"
      ]
     },
     "metadata": {},
     "output_type": "display_data"
    },
    {
     "data": {
      "text/html": [
       "<pre style=\"white-space:pre;overflow-x:auto;line-height:normal;font-family:Menlo,'DejaVu Sans Mono',consolas,'Courier New',monospace\"><span style=\"font-weight: bold\"> Total params: </span><span style=\"color: #00af00; text-decoration-color: #00af00\">1,313,027</span> (5.01 MB)\n",
       "</pre>\n"
      ],
      "text/plain": [
       "\u001b[1m Total params: \u001b[0m\u001b[38;5;34m1,313,027\u001b[0m (5.01 MB)\n"
      ]
     },
     "metadata": {},
     "output_type": "display_data"
    },
    {
     "data": {
      "text/html": [
       "<pre style=\"white-space:pre;overflow-x:auto;line-height:normal;font-family:Menlo,'DejaVu Sans Mono',consolas,'Courier New',monospace\"><span style=\"font-weight: bold\"> Trainable params: </span><span style=\"color: #00af00; text-decoration-color: #00af00\">1,313,025</span> (5.01 MB)\n",
       "</pre>\n"
      ],
      "text/plain": [
       "\u001b[1m Trainable params: \u001b[0m\u001b[38;5;34m1,313,025\u001b[0m (5.01 MB)\n"
      ]
     },
     "metadata": {},
     "output_type": "display_data"
    },
    {
     "data": {
      "text/html": [
       "<pre style=\"white-space:pre;overflow-x:auto;line-height:normal;font-family:Menlo,'DejaVu Sans Mono',consolas,'Courier New',monospace\"><span style=\"font-weight: bold\"> Non-trainable params: </span><span style=\"color: #00af00; text-decoration-color: #00af00\">0</span> (0.00 B)\n",
       "</pre>\n"
      ],
      "text/plain": [
       "\u001b[1m Non-trainable params: \u001b[0m\u001b[38;5;34m0\u001b[0m (0.00 B)\n"
      ]
     },
     "metadata": {},
     "output_type": "display_data"
    },
    {
     "data": {
      "text/html": [
       "<pre style=\"white-space:pre;overflow-x:auto;line-height:normal;font-family:Menlo,'DejaVu Sans Mono',consolas,'Courier New',monospace\"><span style=\"font-weight: bold\"> Optimizer params: </span><span style=\"color: #00af00; text-decoration-color: #00af00\">2</span> (12.00 B)\n",
       "</pre>\n"
      ],
      "text/plain": [
       "\u001b[1m Optimizer params: \u001b[0m\u001b[38;5;34m2\u001b[0m (12.00 B)\n"
      ]
     },
     "metadata": {},
     "output_type": "display_data"
    }
   ],
   "source": [
    "model = load_model(r'C:\\Projects\\LLM_finetune\\simpleRNNimdb\\imdbmodel.h5')\n",
    "model.summary()"
   ]
  },
  {
   "cell_type": "code",
   "execution_count": 4,
   "metadata": {},
   "outputs": [
    {
     "data": {
      "text/plain": [
       "[array([[-0.9151728 , -0.8873122 ,  0.5897442 , ..., -0.20777912,\n",
       "         -0.7494918 , -0.537123  ],\n",
       "        [-0.05745691,  0.00134724,  0.00609437, ..., -0.01758414,\n",
       "         -0.06148091, -0.01898527],\n",
       "        [-0.04613684,  0.0290037 ,  0.0581046 , ..., -0.10526147,\n",
       "          0.01305349, -0.15643851],\n",
       "        ...,\n",
       "        [-0.04033114, -0.03433855,  0.07594304, ..., -0.06739672,\n",
       "          0.00873327, -0.07917048],\n",
       "        [ 0.02124493, -0.01765624,  0.08044115, ..., -0.11161032,\n",
       "         -0.0331747 , -0.0564241 ],\n",
       "        [ 0.01815262,  0.04038568,  0.03280287, ...,  0.02647134,\n",
       "          0.04237707,  0.08785922]], dtype=float32),\n",
       " array([[-0.08984346,  0.16636878, -0.0383177 , ...,  0.05592924,\n",
       "          0.16744457, -0.00551378],\n",
       "        [ 0.12523885,  0.08440316,  0.17623086, ...,  0.01933567,\n",
       "         -0.0312847 ,  0.16125   ],\n",
       "        [ 0.1709393 ,  0.14218847,  0.14270513, ..., -0.09337495,\n",
       "          0.05418532,  0.14197117],\n",
       "        ...,\n",
       "        [-0.03650828, -0.14835097,  0.06656303, ...,  0.03072958,\n",
       "         -0.07936488, -0.08580018],\n",
       "        [ 0.00973157,  0.06770934,  0.03950603, ..., -0.19644275,\n",
       "          0.12473655, -0.09086862],\n",
       "        [-0.18947476,  0.07821952,  0.10126945, ..., -0.08177485,\n",
       "         -0.08872542,  0.02343621]], dtype=float32),\n",
       " array([[ 0.10108484,  0.08646072, -0.05698532, ...,  0.0876764 ,\n",
       "          0.09448481, -0.02134895],\n",
       "        [-0.10324691, -0.15861967, -0.04904073, ...,  0.09979254,\n",
       "          0.10466967, -0.00598955],\n",
       "        [ 0.00373193, -0.1318703 , -0.07394723, ..., -0.01828963,\n",
       "         -0.08603279, -0.1557255 ],\n",
       "        ...,\n",
       "        [-0.00629372,  0.03517396, -0.17786174, ..., -0.07754485,\n",
       "         -0.20539345,  0.15268548],\n",
       "        [-0.09370337,  0.04337877,  0.1124515 , ..., -0.04496492,\n",
       "         -0.03390423, -0.00879945],\n",
       "        [-0.12854718,  0.01253208,  0.06222703, ..., -0.09680574,\n",
       "          0.00211235,  0.09651092]], dtype=float32),\n",
       " array([-7.1998142e-02, -2.1283394e-02, -2.5580773e-02, -7.1529197e-03,\n",
       "         2.6988553e-02, -3.5505507e-02, -4.8173822e-02, -3.2257631e-02,\n",
       "         5.4341890e-02, -5.4440729e-02, -3.8832113e-02, -2.7372003e-02,\n",
       "         1.8894110e-03, -3.8232170e-02, -3.8453907e-02, -4.0525850e-02,\n",
       "         2.8917741e-02, -2.0830370e-03, -1.5808584e-02,  1.2490736e-02,\n",
       "         7.5840801e-03, -3.2362103e-02, -5.9224851e-02,  6.6452986e-03,\n",
       "        -4.5901291e-02, -1.1572222e-02, -2.2055198e-02,  6.2103630e-03,\n",
       "         2.7178966e-03, -3.4851471e-03, -7.7579715e-03, -1.2470388e-02,\n",
       "        -2.7219387e-02, -1.6893351e-02, -3.3710610e-02, -2.7091516e-02,\n",
       "        -1.8684812e-02, -2.1250857e-02,  7.2379544e-04, -2.2472933e-02,\n",
       "        -2.5475731e-02, -3.0263204e-02, -3.2050014e-02,  3.8948175e-02,\n",
       "        -1.4378398e-02,  1.0669869e-02, -2.5888730e-02,  5.9052195e-06,\n",
       "        -1.5177155e-02, -2.3165857e-02, -1.3766431e-02, -1.8177129e-02,\n",
       "        -4.6589110e-02, -3.7300114e-02,  3.6869381e-02, -8.7939911e-03,\n",
       "        -6.3216142e-02, -2.2184276e-03, -4.7098838e-02, -2.5414186e-02,\n",
       "        -2.9230226e-02,  1.7803449e-02,  6.8610194e-03, -1.7475158e-02,\n",
       "        -1.4121313e-02, -2.8218361e-02, -7.4754814e-03,  2.7657423e-02,\n",
       "         4.1980345e-02,  4.1488275e-02, -2.1831948e-02,  2.7054796e-02,\n",
       "        -2.8352300e-03, -6.2015120e-02, -3.0738914e-02, -6.0703796e-03,\n",
       "        -8.5336519e-03, -6.1329799e-03, -3.0218959e-02, -2.9844880e-02,\n",
       "        -1.2382011e-02,  4.2477138e-02, -3.1820830e-02, -2.5725627e-02,\n",
       "         1.5959226e-03,  5.5252537e-03, -2.3302279e-02,  2.5819216e-02,\n",
       "        -4.8358906e-02, -1.6635977e-02, -2.2817506e-02, -4.0776830e-02,\n",
       "         8.7266080e-03,  2.3283923e-02, -2.3441033e-02, -4.0740404e-02,\n",
       "        -1.3572007e-03, -4.3430343e-02, -1.5351585e-02, -3.7805587e-02,\n",
       "        -1.5877362e-02, -2.5294935e-02,  3.5766978e-02, -1.6196935e-02,\n",
       "        -2.0926140e-02, -3.7042722e-02,  2.0471890e-02, -2.4329513e-02,\n",
       "        -7.5822403e-03,  3.4048781e-02,  6.0151171e-02, -6.7919746e-02,\n",
       "        -2.5353290e-02, -2.6211429e-02, -1.0267005e-02,  1.7359385e-02,\n",
       "        -6.3585895e-03, -4.1661207e-02, -7.8168474e-03, -3.4858573e-02,\n",
       "        -3.5663571e-02, -5.1072273e-02, -5.7838126e-03,  3.5188023e-02,\n",
       "        -8.2337195e-03,  1.3595874e-02, -2.2017252e-02, -2.3177644e-02],\n",
       "       dtype=float32),\n",
       " array([[-0.07483453],\n",
       "        [ 0.1779679 ],\n",
       "        [-0.04509997],\n",
       "        [ 0.04046754],\n",
       "        [-0.18418546],\n",
       "        [-0.10108289],\n",
       "        [-0.43232954],\n",
       "        [-0.2024817 ],\n",
       "        [-0.04628912],\n",
       "        [-0.1000184 ],\n",
       "        [ 0.2021148 ],\n",
       "        [-0.18294322],\n",
       "        [-0.01429784],\n",
       "        [-0.08142885],\n",
       "        [ 0.143901  ],\n",
       "        [ 0.11642784],\n",
       "        [-0.09839983],\n",
       "        [-0.01364611],\n",
       "        [-0.11487389],\n",
       "        [-0.04634061],\n",
       "        [-0.12565365],\n",
       "        [ 0.10462876],\n",
       "        [ 0.6699279 ],\n",
       "        [ 0.20445888],\n",
       "        [-0.10052548],\n",
       "        [ 0.10715906],\n",
       "        [-0.1530996 ],\n",
       "        [-0.02041307],\n",
       "        [-0.04013012],\n",
       "        [ 0.17499827],\n",
       "        [-0.09232514],\n",
       "        [ 0.29889762],\n",
       "        [-0.18704034],\n",
       "        [ 0.34350607],\n",
       "        [-0.52170455],\n",
       "        [ 0.7088451 ],\n",
       "        [-0.3558863 ],\n",
       "        [-0.00607759],\n",
       "        [-0.15689269],\n",
       "        [ 0.18685845],\n",
       "        [-0.11506823],\n",
       "        [ 0.01216684],\n",
       "        [-0.08272047],\n",
       "        [ 0.06756648],\n",
       "        [-0.10741972],\n",
       "        [ 0.01984996],\n",
       "        [-0.11878847],\n",
       "        [-0.2705373 ],\n",
       "        [-0.2460733 ],\n",
       "        [-0.17442629],\n",
       "        [ 0.01921821],\n",
       "        [ 0.01703006],\n",
       "        [-0.20158617],\n",
       "        [ 0.08035917],\n",
       "        [ 0.11753119],\n",
       "        [-0.17893176],\n",
       "        [ 0.13771574],\n",
       "        [-0.19596064],\n",
       "        [ 0.02750983],\n",
       "        [ 0.05986096],\n",
       "        [-0.24989896],\n",
       "        [ 0.04072336],\n",
       "        [ 0.11546831],\n",
       "        [-0.07128462],\n",
       "        [-0.21753944],\n",
       "        [-0.7673221 ],\n",
       "        [ 0.06041363],\n",
       "        [ 0.05031437],\n",
       "        [ 0.02065939],\n",
       "        [ 0.01412128],\n",
       "        [-0.12017706],\n",
       "        [ 0.01860343],\n",
       "        [ 0.14392008],\n",
       "        [-0.00199973],\n",
       "        [ 0.2604967 ],\n",
       "        [ 0.03513352],\n",
       "        [ 0.1041455 ],\n",
       "        [ 0.18504643],\n",
       "        [-0.0224053 ],\n",
       "        [ 0.16630763],\n",
       "        [ 0.7018612 ],\n",
       "        [-0.02818977],\n",
       "        [-0.12234791],\n",
       "        [-0.00947212],\n",
       "        [ 0.07943957],\n",
       "        [ 0.15229174],\n",
       "        [ 0.03883974],\n",
       "        [ 0.22099614],\n",
       "        [-0.10093574],\n",
       "        [ 0.02608825],\n",
       "        [ 0.1124035 ],\n",
       "        [-0.09581663],\n",
       "        [ 0.20251721],\n",
       "        [ 0.07677587],\n",
       "        [ 0.10008235],\n",
       "        [-0.00478684],\n",
       "        [-0.16183199],\n",
       "        [-0.05854684],\n",
       "        [ 0.4849946 ],\n",
       "        [-0.17046164],\n",
       "        [-0.05223304],\n",
       "        [ 0.27912885],\n",
       "        [-0.01794226],\n",
       "        [-0.20636353],\n",
       "        [-0.19427025],\n",
       "        [-0.13665892],\n",
       "        [ 0.14833206],\n",
       "        [-0.20011921],\n",
       "        [ 0.92949104],\n",
       "        [ 0.16413085],\n",
       "        [-0.21714179],\n",
       "        [-0.17861862],\n",
       "        [ 0.05730009],\n",
       "        [ 0.00650749],\n",
       "        [ 0.17637888],\n",
       "        [ 0.02636709],\n",
       "        [-0.25317493],\n",
       "        [-0.11197234],\n",
       "        [-0.18832064],\n",
       "        [ 0.17666218],\n",
       "        [ 0.02939667],\n",
       "        [ 0.1916093 ],\n",
       "        [-0.07847376],\n",
       "        [ 0.20264897],\n",
       "        [-0.38368076],\n",
       "        [-0.17184444],\n",
       "        [ 0.18187237],\n",
       "        [-0.05113213]], dtype=float32),\n",
       " array([-0.37021077], dtype=float32)]"
      ]
     },
     "execution_count": 4,
     "metadata": {},
     "output_type": "execute_result"
    }
   ],
   "source": [
    "model.get_weights()"
   ]
  },
  {
   "cell_type": "code",
   "execution_count": 9,
   "metadata": {},
   "outputs": [],
   "source": [
    "example_review = \"This movie was fantastic! The acting was great and the plot was thrilling.\"\n",
    "words = example_review.lower().split()\n",
    "encoded_review = [word_index.get(word, 2) + 3 for word in words]"
   ]
  },
  {
   "cell_type": "code",
   "execution_count": 27,
   "metadata": {},
   "outputs": [
    {
     "data": {
      "text/plain": [
       "[14, 20, 16, 6, 4, 116, 16, 87, 5, 4, 114, 16, 6]"
      ]
     },
     "execution_count": 27,
     "metadata": {},
     "output_type": "execute_result"
    }
   ],
   "source": [
    "[word_index.get(word,3) + 3 for word in words]"
   ]
  },
  {
   "cell_type": "code",
   "execution_count": 25,
   "metadata": {},
   "outputs": [
    {
     "data": {
      "text/plain": [
       "int"
      ]
     },
     "execution_count": 25,
     "metadata": {},
     "output_type": "execute_result"
    }
   ],
   "source": [
    "type(word_index.get(\"this\",2))"
   ]
  },
  {
   "cell_type": "code",
   "execution_count": 10,
   "metadata": {},
   "outputs": [
    {
     "data": {
      "text/plain": [
       "[14, 20, 16, 5, 4, 116, 16, 87, 5, 4, 114, 16, 5]"
      ]
     },
     "execution_count": 10,
     "metadata": {},
     "output_type": "execute_result"
    }
   ],
   "source": [
    "encoded_review"
   ]
  },
  {
   "cell_type": "code",
   "execution_count": 5,
   "metadata": {},
   "outputs": [],
   "source": [
    "# Step 2: Helper Functions\n",
    "# Function to decode reviews\n",
    "def decode_review(encoded_review):\n",
    "    return ' '.join([reverse_word_index.get(i - 3, '?') for i in encoded_review])\n",
    "\n",
    "# Function to preprocess user input\n",
    "def preprocess_text(text):\n",
    "    words = text.lower().split()\n",
    "    encoded_review = [word_index.get(word, 2) + 3 for word in words]\n",
    "    padded_review = sequence.pad_sequences([encoded_review], maxlen=500)\n",
    "    return padded_review"
   ]
  },
  {
   "cell_type": "code",
   "execution_count": 6,
   "metadata": {},
   "outputs": [],
   "source": [
    "\n",
    "def predict_sentiment(review):\n",
    "    preprocessed_input=preprocess_text(review)\n",
    "\n",
    "    prediction=model.predict(preprocessed_input)\n",
    "\n",
    "    sentiment = 'Positive' if prediction[0][0] > 0.5 else 'Negative'\n",
    "    \n",
    "    return sentiment, prediction[0][0]\n"
   ]
  },
  {
   "cell_type": "code",
   "execution_count": 7,
   "metadata": {},
   "outputs": [
    {
     "name": "stdout",
     "output_type": "stream",
     "text": [
      "\u001b[1m1/1\u001b[0m \u001b[32m━━━━━━━━━━━━━━━━━━━━\u001b[0m\u001b[37m\u001b[0m \u001b[1m0s\u001b[0m 213ms/step\n",
      "Review: This movie was fantastic! The acting was great and the plot was thrilling.\n",
      "Sentiment: Negative\n",
      "Prediction Score: 0.007680103648453951\n"
     ]
    }
   ],
   "source": [
    "# Example review for prediction\n",
    "example_review = \"This movie was fantastic! The acting was great and the plot was thrilling.\"\n",
    "\n",
    "sentiment,score=predict_sentiment(example_review)\n",
    "\n",
    "print(f'Review: {example_review}')\n",
    "print(f'Sentiment: {sentiment}')\n",
    "print(f'Prediction Score: {score}')"
   ]
  },
  {
   "cell_type": "code",
   "execution_count": null,
   "metadata": {},
   "outputs": [],
   "source": []
  }
 ],
 "metadata": {
  "kernelspec": {
   "display_name": "Python 3",
   "language": "python",
   "name": "python3"
  },
  "language_info": {
   "codemirror_mode": {
    "name": "ipython",
    "version": 3
   },
   "file_extension": ".py",
   "mimetype": "text/x-python",
   "name": "python",
   "nbconvert_exporter": "python",
   "pygments_lexer": "ipython3",
   "version": "3.10.14"
  }
 },
 "nbformat": 4,
 "nbformat_minor": 2
}
